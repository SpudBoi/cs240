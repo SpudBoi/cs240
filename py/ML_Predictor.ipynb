{
 "cells": [
  {
   "cell_type": "code",
   "execution_count": 2,
   "metadata": {},
   "outputs": [],
   "source": [
    "%matplotlib inline\n",
    "import matplotlib.pyplot as plt\n",
    "import numpy as np\n",
    "import csv\n",
    "from utils import *\n",
    "np.set_printoptions(precision=3)"
   ]
  },
  {
   "cell_type": "markdown",
   "metadata": {},
   "source": [
    "# 0. Grab data from csv file"
   ]
  },
  {
   "cell_type": "code",
   "execution_count": 4,
   "metadata": {},
   "outputs": [],
   "source": [
    "with open('BCH-USD_10_2_18.csv') as csvfile:\n",
    "    read = csv.reader(csvfile, delimiter=',')\n",
    "    data = list(read)"
   ]
  },
  {
   "cell_type": "code",
   "execution_count": 6,
   "metadata": {},
   "outputs": [
    {
     "name": "stdout",
     "output_type": "stream",
     "text": [
      "['Date', 'Open', 'High', 'Low', 'Close', 'Adj Close', 'Volume']\n"
     ]
    }
   ],
   "source": [
    "attributes = data[0]\n",
    "print(attributes)\n",
    "\n",
    "datalen = len(data)\n",
    "\n",
    "date = [None]*(datalen-1)\n",
    "open = [None]*(datalen-1)\n",
    "high = [None]*(datalen-1)\n",
    "low = [None]*(datalen-1)\n",
    "close = [None]*(datalen-1)\n",
    "adjclose = [None]*(datalen-1)\n",
    "vol = [None]*(datalen-1)\n",
    "\n",
    "for x in range(1,datalen):\n",
    "    date[x-1]     = data[x][0]\n",
    "    open[x-1]     = data[x][1]\n",
    "    high[x-1]     = data[x][2]\n",
    "    low[x-1]      = data[x][3]\n",
    "    close[x-1]    = data[x][4]\n",
    "    adjclose[x-1] = data[x][5]\n",
    "    vol[x-1]      = data[x][6]\n",
    "\n",
    "datalen=datalen-1    "
   ]
  },
  {
   "cell_type": "code",
   "execution_count": 7,
   "metadata": {},
   "outputs": [
    {
     "name": "stdout",
     "output_type": "stream",
     "text": [
      "[array(220.3), array(3715.91)]\n"
     ]
    },
    {
     "data": {
      "text/plain": [
       "<matplotlib.collections.PathCollection at 0x20fe2022ba8>"
      ]
     },
     "execution_count": 7,
     "metadata": {},
     "output_type": "execute_result"
    },
    {
     "data": {
      "image/png": "[encoded data removed]",
      "text/plain": [
       "<Figure size 432x288 with 1 Axes>"
      ]
     },
     "metadata": {},
     "output_type": "display_data"
    }
   ],
   "source": [
    "formatx = [[] for i in range(datalen)]\n",
    "\n",
    "minX=float('inf')\n",
    "maxX=float('-inf')\n",
    "\n",
    "for x in range (0,datalen):\n",
    "    formatx[x].append(open[x])\n",
    "    \n",
    "formaty = [[] for i in range(datalen)]\n",
    "\n",
    "for x in range (0,datalen):\n",
    "    formaty[x].append(open[x])\n",
    "\n",
    "\n",
    "\n",
    "x = np.array(formatx,dtype=float)\n",
    "y = np.array(formaty,dtype=float)\n",
    "\n",
    "x.reshape(1,datalen)\n",
    "y.reshape(1,datalen)\n",
    "\n",
    "\n",
    "for i in np.nditer(x):\n",
    "        if (i>maxX):\n",
    "            #print(i)\n",
    "            maxX=i\n",
    "        if (i<minX):\n",
    "            #print(x)\n",
    "            minX=i\n",
    "            \n",
    "#define range of x values\n",
    "x_range = [None]*2\n",
    "x_range[0]=minX\n",
    "x_range[1]=maxX\n",
    "            \n",
    "print(x_range)\n",
    "    \n",
    "plt.scatter(x, y, color='green')"
   ]
  },
  {
   "cell_type": "code",
   "execution_count": 210,
   "metadata": {},
   "outputs": [
    {
     "name": "stdout",
     "output_type": "stream",
     "text": [
      "3.6235581055612903e-26\n"
     ]
    },
    {
     "data": {
      "image/png": "[encoded data removed]",
      "text/plain": [
       "<Figure size 432x288 with 1 Axes>"
      ]
     },
     "metadata": {},
     "output_type": "display_data"
    }
   ],
   "source": [
    "linear_coeff, err = least_squares(x, y)\n",
    "plt.scatter(x, y, color='green')\n",
    "plot_linear(linear_coeff)\n",
    "print(err)"
   ]
  },
  {
   "cell_type": "code",
   "execution_count": 211,
   "metadata": {},
   "outputs": [
    {
     "data": {
      "image/png": "[encoded data removed]",
      "text/plain": [
       "<Figure size 432x288 with 1 Axes>"
      ]
     },
     "metadata": {},
     "output_type": "display_data"
    }
   ],
   "source": [
    "w_fit_right = np.array([[1.7]])\n",
    "w_closer_right = np.array([[0.75]])\n",
    "plt.scatter(x, y, color='green')\n",
    "plot_linear(linear_coeff, color='red')\n",
    "plot_linear(w_fit_right, color='blue')\n",
    "plot_linear(w_closer_right, color='purple')"
   ]
  },
  {
   "cell_type": "code",
   "execution_count": 212,
   "metadata": {},
   "outputs": [],
   "source": [
    "def mse(x, y, w):\n",
    "    return np.mean((x.dot(w) - y)**2)"
   ]
  },
  {
   "cell_type": "code",
   "execution_count": 213,
   "metadata": {},
   "outputs": [
    {
     "name": "stdout",
     "output_type": "stream",
     "text": [
      "Regression error 3.6235581055612903e-26\n",
      "Purple line 83079.25214075766\n",
      "Blue line 651341.33678354\n"
     ]
    }
   ],
   "source": [
    "print(\"Regression error\", mse(x, y, linear_coeff))\n",
    "print(\"Purple line\", mse(x, y, w_closer_right))\n",
    "print(\"Blue line\", mse(x, y, w_fit_right))"
   ]
  },
  {
   "cell_type": "markdown",
   "metadata": {},
   "source": [
    "# Find error to train"
   ]
  },
  {
   "cell_type": "code",
   "execution_count": 214,
   "metadata": {},
   "outputs": [
    {
     "data": {
      "image/png": "[encoded data removed]",
      "text/plain": [
       "<Figure size 576x288 with 1 Axes>"
      ]
     },
     "metadata": {},
     "output_type": "display_data"
    }
   ],
   "source": [
    "errs = []\n",
    "ws = []\n",
    "for i in range(20):\n",
    "    w, err = least_squares(polynomial_features(x, i), y)\n",
    "    errs.append(err)\n",
    "    ws.append(w)\n",
    "\n",
    "plt.figure(figsize=(8, 4))\n",
    "plot_errors(errs)"
   ]
  },
  {
   "cell_type": "markdown",
   "metadata": {},
   "source": [
    "# Train model"
   ]
  },
  {
   "cell_type": "code",
   "execution_count": 215,
   "metadata": {},
   "outputs": [],
   "source": [
    "N_TRAIN = datalen \n",
    "x_train, y_train = x[:N_TRAIN], y[:N_TRAIN]\n",
    "x_val, y_val = x[N_TRAIN:], y[N_TRAIN:]"
   ]
  },
  {
   "cell_type": "code",
   "execution_count": 216,
   "metadata": {},
   "outputs": [
    {
     "name": "stderr",
     "output_type": "stream",
     "text": [
      "C:\\Users\\DalbostaLT\\Anaconda3\\lib\\site-packages\\numpy\\core\\fromnumeric.py:2957: RuntimeWarning: Mean of empty slice.\n",
      "  out=out, **kwargs)\n",
      "C:\\Users\\DalbostaLT\\Anaconda3\\lib\\site-packages\\numpy\\core\\_methods.py:80: RuntimeWarning: invalid value encountered in double_scalars\n",
      "  ret = ret.dtype.type(ret / rcount)\n"
     ]
    }
   ],
   "source": [
    "errs_train = []\n",
    "ws_train = []\n",
    "errs_val = []\n",
    "for i in range(20):\n",
    "    w, err = least_squares(polynomial_features(x_train, i), y_train)\n",
    "    errs_train.append(err)\n",
    "    errs_val.append(validation_error(x_val, y_val, w))\n",
    "    ws_train.append(w)"
   ]
  },
  {
   "cell_type": "markdown",
   "metadata": {},
   "source": [
    "#### Graph hyperparam effect"
   ]
  },
  {
   "cell_type": "code",
   "execution_count": 217,
   "metadata": {},
   "outputs": [
    {
     "data": {
      "image/png": "[encoded data removed]",
      "text/plain": [
       "<Figure size 576x288 with 1 Axes>"
      ]
     },
     "metadata": {},
     "output_type": "display_data"
    }
   ],
   "source": [
    "plt.figure(figsize=(8, 4))\n",
    "plot_errors(errs_train, label=\"train err\", color='b')\n",
    "plot_errors(errs_val, label=\"val err\", color=\"r\")"
   ]
  },
  {
   "cell_type": "markdown",
   "metadata": {},
   "source": [
    "# 2. Regularization"
   ]
  },
  {
   "cell_type": "raw",
   "metadata": {},
   "source": [
    "## Test same polynomial on different range"
   ]
  },
  {
   "cell_type": "code",
   "execution_count": 218,
   "metadata": {},
   "outputs": [
    {
     "data": {
      "text/plain": [
       "<matplotlib.legend.Legend at 0x23c0ba45a90>"
      ]
     },
     "execution_count": 218,
     "metadata": {},
     "output_type": "execute_result"
    },
    {
     "data": {
      "image/png": "[encoded data removed]",
      "text/plain": [
       "<Figure size 576x288 with 1 Axes>"
      ]
     },
     "metadata": {},
     "output_type": "display_data"
    }
   ],
   "source": [
    "features_4 = polynomial_features(x, 4)\n",
    "w, err = least_squares(features_4, y)\n",
    "\n",
    "plt.figure(figsize=(8, 4))\n",
    "plot_polynomial(w, x_range=x_range, color='r', label='estimated polynomial')\n",
    "plt.legend()"
   ]
  },
  {
   "cell_type": "code",
   "execution_count": 219,
   "metadata": {},
   "outputs": [
    {
     "name": "stdout",
     "output_type": "stream",
     "text": [
      "Estimated coeffs [-3.513e-09  1.000e+00 -5.151e-16  3.070e-20  9.939e-24]\n"
     ]
    }
   ],
   "source": [
    "print(\"Estimated coeffs\", w.flatten())"
   ]
  },
  {
   "cell_type": "code",
   "execution_count": 220,
   "metadata": {},
   "outputs": [
    {
     "data": {
      "text/plain": [
       "array([0.000e+00, 1.045e+29, 6.134e+20, 3.189e+13, 7.166e+06])"
      ]
     },
     "execution_count": 220,
     "metadata": {},
     "output_type": "execute_result"
    }
   ],
   "source": [
    "np.linalg.eig(features_4.T.dot(features_4))[0]"
   ]
  },
  {
   "cell_type": "markdown",
   "metadata": {},
   "source": [
    "## Ridge regression"
   ]
  },
  {
   "cell_type": "code",
   "execution_count": 221,
   "metadata": {},
   "outputs": [],
   "source": [
    "def ridge_regression(x, y, l=1.0):\n",
    "    # TODO: modify linear regression to avoid numerical instability\n",
    "    xTx = x.T.dot(x)\n",
    "    w = np.linalg.inv(xTx + l * np.eye(xTx.shape[0])).dot(x.T.dot(y))\n",
    "    err = np.mean((x.dot(w) - y) ** 2)\n",
    "    return w, err"
   ]
  },
  {
   "cell_type": "markdown",
   "metadata": {},
   "source": [
    "### test algorithim"
   ]
  },
  {
   "cell_type": "code",
   "execution_count": 222,
   "metadata": {},
   "outputs": [
    {
     "data": {
      "image/png": "[encoded data removed]",
      "text/plain": [
       "<Figure size 576x288 with 1 Axes>"
      ]
     },
     "metadata": {},
     "output_type": "display_data"
    }
   ],
   "source": [
    "LAMBDA = 50\n",
    "w, err = ridge_regression(x, y, l=LAMBDA)\n",
    "plt.figure(figsize=(8, 4))\n",
    "plot_polynomial(w, x_range=x_range)"
   ]
  },
  {
   "cell_type": "code",
   "execution_count": 223,
   "metadata": {},
   "outputs": [
    {
     "name": "stdout",
     "output_type": "stream",
     "text": [
      "Estimated coeffs [1.]\n"
     ]
    }
   ],
   "source": [
    "print(\"Estimated coeffs\", w.flatten())"
   ]
  },
  {
   "cell_type": "code",
   "execution_count": null,
   "metadata": {},
   "outputs": [],
   "source": []
  },
  {
   "cell_type": "code",
   "execution_count": null,
   "metadata": {},
   "outputs": [],
   "source": []
  },
  {
   "cell_type": "code",
   "execution_count": null,
   "metadata": {},
   "outputs": [],
   "source": []
  },
  {
   "cell_type": "code",
   "execution_count": null,
   "metadata": {},
   "outputs": [],
   "source": []
  },
  {
   "cell_type": "code",
   "execution_count": null,
   "metadata": {},
   "outputs": [],
   "source": []
  },
  {
   "cell_type": "code",
   "execution_count": null,
   "metadata": {},
   "outputs": [],
   "source": []
  },
  {
   "cell_type": "code",
   "execution_count": null,
   "metadata": {},
   "outputs": [],
   "source": []
  },
  {
   "cell_type": "code",
   "execution_count": null,
   "metadata": {},
   "outputs": [],
   "source": []
  }
 ],
 "metadata": {
  "kernelspec": {
   "display_name": "Python 3",
   "language": "python",
   "name": "python3"
  },
  "language_info": {
   "codemirror_mode": {
    "name": "ipython",
    "version": 3
   },
   "file_extension": ".py",
   "mimetype": "text/x-python",
   "name": "python",
   "nbconvert_exporter": "python",
   "pygments_lexer": "ipython3",
   "version": "3.7.0"
  }
 },
 "nbformat": 4,
 "nbformat_minor": 2
}
